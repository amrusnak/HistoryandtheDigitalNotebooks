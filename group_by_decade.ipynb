{
 "cells": [
  {
   "cell_type": "code",
   "execution_count": 2,
   "metadata": {},
   "outputs": [],
   "source": [
    "import numpy as np\n",
    "import pandas as pd\n",
    "import re\n",
    "import matplotlib.pyplot as plt\n",
    "import seaborn as sns"
   ]
  },
  {
   "cell_type": "code",
   "execution_count": 5,
   "metadata": {},
   "outputs": [],
   "source": [
    "patent_1870 = pd.DataFrame()\n",
    "patent_1880 = pd.DataFrame()\n",
    "patent_1890 = pd.DataFrame()\n",
    "\n",
    "df_1870 = pd.DataFrame()\n",
    "df_1880 = pd.DataFrame()\n",
    "df_1890 = pd.DataFrame()\n"
   ]
  },
  {
   "cell_type": "markdown",
   "metadata": {},
   "source": [
    "# Reorder scaped records according to decades"
   ]
  },
  {
   "cell_type": "code",
   "execution_count": 8,
   "metadata": {},
   "outputs": [
    {
     "name": "stdout",
     "output_type": "stream",
     "text": [
      "============== FILE 1 ===================\n",
      "patents published in top 100 cities: 44.814%\n",
      "0.997970499764433\n",
      "100.0 % of urban patents are published with tags\n",
      "============== FILE 2 ===================\n",
      "patents published in top 100 cities: 47.778%\n",
      "0.9961701964689211\n",
      "99.99162794591653 % of urban patents are published with tags\n",
      "============== FILE 3 ===================\n",
      "patents published in top 100 cities: 49.604%\n",
      "0.9950591316771172\n",
      "99.99798403354568 % of urban patents are published with tags\n",
      "============== FILE 4 ===================\n",
      "patents published in top 100 cities: 47.917%\n",
      "0.9937407599408636\n",
      "99.99791305799612 % of urban patents are published with tags\n",
      "============== FILE 5 ===================\n",
      "patents published in top 100 cities: 46.475%\n",
      "0.9963568425969174\n",
      "100.0 % of urban patents are published with tags\n",
      "============== FILE 6 ===================\n",
      "patents published in top 100 cities: 43.34452444254691%\n",
      "0.9976022470370625\n",
      "99.96865905529438 % of urban patents are published with tags\n"
     ]
    }
   ],
   "source": [
    "\n",
    "for n in range(1,7):\n",
    "    \n",
    "    print(\"============== FILE {0} ===================\".format(n))\n",
    "    data = np.load('DatasetPatents{0}C.npy'.format(n))\n",
    "    colnames=['id','title','author','text','expir','pub','tags','city']\n",
    "\n",
    "    df = pd.DataFrame(data, columns = colnames)\n",
    "    df['tags_len'] = df.tags.apply(lambda x: len(x))\n",
    "    df['year'] = df.pub[df.pub.apply(lambda x:x!='')].apply(lambda x: int(x.split('-')[0].strip()))\n",
    "    df['decade'] = df.pub[df.pub.apply(lambda x:x!='')].apply(lambda x: np.floor((int(x[0:4])-1)/10)*10)\n",
    "    df['city'] = df.city.apply(lambda x: x.strip())\n",
    "    \n",
    "    df_city = df[df.city.apply(lambda x: x!= '')]\n",
    "    df_suburb = df[df.city.apply(lambda x: x== '')]\n",
    "    \n",
    "    print('patents published in top 100 cities: {0}%'.format(100*df_city.shape[0]/df.shape[0]))\n",
    "    \n",
    "    df_tag = df_city[df_city.tags_len > 0]\n",
    "    print((df_suburb[df_suburb.tags_len > 0].shape[0])/(df_suburb.shape[0]))\n",
    "    print('{0} % of urban patents are published with tags'.format(100*df_tag.shape[0]/df_city.shape[0]))\n",
    "    \n",
    "    patent_1870 = pd.concat([patent_1870, df_tag[['id','pub','tags','city','decade']][df_tag.decade == 1870]])\n",
    "    patent_1880 = pd.concat([patent_1880, df_tag[['id','pub','tags','city','decade']][df_tag.decade == 1880]])\n",
    "    patent_1890 = pd.concat([patent_1890, df_tag[['id','pub','tags','city','decade']][df_tag.decade == 1890]])\n",
    "    \n",
    "    df_1870 = pd.concat([df_1870, df[['id','pub','tags','city','decade']][df.decade == 1870]])\n",
    "    df_1880 = pd.concat([df_1880, df[['id','pub','tags','city','decade']][df.decade == 1880]])\n",
    "    df_1890 = pd.concat([df_1890, df[['id','pub','tags','city','decade']][df.decade == 1890]])"
   ]
  },
  {
   "cell_type": "code",
   "execution_count": 10,
   "metadata": {},
   "outputs": [],
   "source": [
    "df_1870.to_pickle('df_1870.pkl')\n",
    "df_1880.to_pickle('df_1880.pkl')\n",
    "df_1890.to_pickle('df_1890.pkl')\n",
    "\n",
    "\n",
    "patent_1870.to_pickle('patent_1870.pkl')\n",
    "patent_1880.to_pickle('patent_1880.pkl')\n",
    "patent_1890.to_pickle('patent_1890.pkl')\n",
    "\n"
   ]
  },
  {
   "cell_type": "markdown",
   "metadata": {},
   "source": [
    "# Figuring out the newest technology of each decade\n",
    "\n",
    "in each patent, there is a list of tags, designated by patent offce. Some may bear several tags in same type, while some others have several tags in different type. by looking into the tag, we can say which technology was the biggest of that time"
   ]
  },
  {
   "cell_type": "code",
   "execution_count": 21,
   "metadata": {},
   "outputs": [
    {
     "data": {
      "text/html": [
       "<div>\n",
       "<style scoped>\n",
       "    .dataframe tbody tr th:only-of-type {\n",
       "        vertical-align: middle;\n",
       "    }\n",
       "\n",
       "    .dataframe tbody tr th {\n",
       "        vertical-align: top;\n",
       "    }\n",
       "\n",
       "    .dataframe thead th {\n",
       "        text-align: right;\n",
       "    }\n",
       "</style>\n",
       "<table border=\"1\" class=\"dataframe\">\n",
       "  <thead>\n",
       "    <tr style=\"text-align: right;\">\n",
       "      <th></th>\n",
       "      <th>id</th>\n",
       "      <th>pub</th>\n",
       "      <th>tags</th>\n",
       "      <th>city</th>\n",
       "      <th>decade</th>\n",
       "    </tr>\n",
       "  </thead>\n",
       "  <tbody>\n",
       "    <tr>\n",
       "      <th>0</th>\n",
       "      <td>US498469A</td>\n",
       "      <td>1893-05-30</td>\n",
       "      <td>B, PERFORMING OPERATIONS; TRANSPORTING</td>\n",
       "      <td>Newark city</td>\n",
       "      <td>1890.0</td>\n",
       "    </tr>\n",
       "    <tr>\n",
       "      <th>0</th>\n",
       "      <td>US498469A</td>\n",
       "      <td>1893-05-30</td>\n",
       "      <td>B21, MECHANICAL METAL-WORKING WITHOUT ESSENTIA...</td>\n",
       "      <td>Newark city</td>\n",
       "      <td>1890.0</td>\n",
       "    </tr>\n",
       "    <tr>\n",
       "      <th>0</th>\n",
       "      <td>US498469A</td>\n",
       "      <td>1893-05-30</td>\n",
       "      <td>B21D, WORKING OR PROCESSING OF SHEET METAL OR ...</td>\n",
       "      <td>Newark city</td>\n",
       "      <td>1890.0</td>\n",
       "    </tr>\n",
       "    <tr>\n",
       "      <th>0</th>\n",
       "      <td>US498469A</td>\n",
       "      <td>1893-05-30</td>\n",
       "      <td>B21D7/00, Bending rods, profiles, or tubes</td>\n",
       "      <td>Newark city</td>\n",
       "      <td>1890.0</td>\n",
       "    </tr>\n",
       "    <tr>\n",
       "      <th>0</th>\n",
       "      <td>US498469A</td>\n",
       "      <td>1893-05-30</td>\n",
       "      <td>B21D7/06, Bending rods, profiles, or tubes in ...</td>\n",
       "      <td>Newark city</td>\n",
       "      <td>1890.0</td>\n",
       "    </tr>\n",
       "  </tbody>\n",
       "</table>\n",
       "</div>"
      ],
      "text/plain": [
       "          id         pub                                               tags  \\\n",
       "0  US498469A  1893-05-30             B, PERFORMING OPERATIONS; TRANSPORTING   \n",
       "0  US498469A  1893-05-30  B21, MECHANICAL METAL-WORKING WITHOUT ESSENTIA...   \n",
       "0  US498469A  1893-05-30  B21D, WORKING OR PROCESSING OF SHEET METAL OR ...   \n",
       "0  US498469A  1893-05-30         B21D7/00, Bending rods, profiles, or tubes   \n",
       "0  US498469A  1893-05-30  B21D7/06, Bending rods, profiles, or tubes in ...   \n",
       "\n",
       "          city  decade  \n",
       "0  Newark city  1890.0  \n",
       "0  Newark city  1890.0  \n",
       "0  Newark city  1890.0  \n",
       "0  Newark city  1890.0  \n",
       "0  Newark city  1890.0  "
      ]
     },
     "execution_count": 21,
     "metadata": {},
     "output_type": "execute_result"
    }
   ],
   "source": [
    "data = pd.read_pickle('patent_{0}.pkl'.format(YEAR))\n",
    "\n",
    "df_tag_explode = data.explode('tags')\n",
    "df_tag_explode.head()"
   ]
  },
  {
   "cell_type": "markdown",
   "metadata": {},
   "source": [
    "structure of tags is: general categorizations are on top, makred with only one alphabet. By adding some numbers and alphabet, the explanation goes into detail. Here, we only save the broadest, most general tags to get the idea of general tendency "
   ]
  },
  {
   "cell_type": "code",
   "execution_count": 22,
   "metadata": {},
   "outputs": [
    {
     "data": {
      "text/html": [
       "<div>\n",
       "<style scoped>\n",
       "    .dataframe tbody tr th:only-of-type {\n",
       "        vertical-align: middle;\n",
       "    }\n",
       "\n",
       "    .dataframe tbody tr th {\n",
       "        vertical-align: top;\n",
       "    }\n",
       "\n",
       "    .dataframe thead th {\n",
       "        text-align: right;\n",
       "    }\n",
       "</style>\n",
       "<table border=\"1\" class=\"dataframe\">\n",
       "  <thead>\n",
       "    <tr style=\"text-align: right;\">\n",
       "      <th></th>\n",
       "      <th>id</th>\n",
       "      <th>pub</th>\n",
       "      <th>tags</th>\n",
       "      <th>city</th>\n",
       "      <th>decade</th>\n",
       "      <th>category</th>\n",
       "    </tr>\n",
       "  </thead>\n",
       "  <tbody>\n",
       "    <tr>\n",
       "      <th>0</th>\n",
       "      <td>US498469A</td>\n",
       "      <td>1893-05-30</td>\n",
       "      <td>B, PERFORMING OPERATIONS; TRANSPORTING</td>\n",
       "      <td>Newark city</td>\n",
       "      <td>1890.0</td>\n",
       "      <td>B</td>\n",
       "    </tr>\n",
       "    <tr>\n",
       "      <th>0</th>\n",
       "      <td>US498469A</td>\n",
       "      <td>1893-05-30</td>\n",
       "      <td>B21, MECHANICAL METAL-WORKING WITHOUT ESSENTIA...</td>\n",
       "      <td>Newark city</td>\n",
       "      <td>1890.0</td>\n",
       "      <td>B</td>\n",
       "    </tr>\n",
       "    <tr>\n",
       "      <th>0</th>\n",
       "      <td>US498469A</td>\n",
       "      <td>1893-05-30</td>\n",
       "      <td>B21D, WORKING OR PROCESSING OF SHEET METAL OR ...</td>\n",
       "      <td>Newark city</td>\n",
       "      <td>1890.0</td>\n",
       "      <td>B</td>\n",
       "    </tr>\n",
       "    <tr>\n",
       "      <th>0</th>\n",
       "      <td>US498469A</td>\n",
       "      <td>1893-05-30</td>\n",
       "      <td>B21D7/00, Bending rods, profiles, or tubes</td>\n",
       "      <td>Newark city</td>\n",
       "      <td>1890.0</td>\n",
       "      <td>B</td>\n",
       "    </tr>\n",
       "    <tr>\n",
       "      <th>0</th>\n",
       "      <td>US498469A</td>\n",
       "      <td>1893-05-30</td>\n",
       "      <td>B21D7/06, Bending rods, profiles, or tubes in ...</td>\n",
       "      <td>Newark city</td>\n",
       "      <td>1890.0</td>\n",
       "      <td>B</td>\n",
       "    </tr>\n",
       "  </tbody>\n",
       "</table>\n",
       "</div>"
      ],
      "text/plain": [
       "          id         pub                                               tags  \\\n",
       "0  US498469A  1893-05-30             B, PERFORMING OPERATIONS; TRANSPORTING   \n",
       "0  US498469A  1893-05-30  B21, MECHANICAL METAL-WORKING WITHOUT ESSENTIA...   \n",
       "0  US498469A  1893-05-30  B21D, WORKING OR PROCESSING OF SHEET METAL OR ...   \n",
       "0  US498469A  1893-05-30         B21D7/00, Bending rods, profiles, or tubes   \n",
       "0  US498469A  1893-05-30  B21D7/06, Bending rods, profiles, or tubes in ...   \n",
       "\n",
       "          city  decade category  \n",
       "0  Newark city  1890.0        B  \n",
       "0  Newark city  1890.0        B  \n",
       "0  Newark city  1890.0        B  \n",
       "0  Newark city  1890.0        B  \n",
       "0  Newark city  1890.0        B  "
      ]
     },
     "execution_count": 22,
     "metadata": {},
     "output_type": "execute_result"
    }
   ],
   "source": [
    "df_tag_explode['category'] = df_tag_explode.tags.apply(lambda x: re.findall('^[A-Z]\\S*,',x)[0].strip(',').split('/')[0][0])\n",
    "df_tag_explode.head()"
   ]
  },
  {
   "cell_type": "markdown",
   "metadata": {},
   "source": [
    "Get the definition of tag category"
   ]
  },
  {
   "cell_type": "code",
   "execution_count": 23,
   "metadata": {},
   "outputs": [
    {
     "data": {
      "text/html": [
       "<div>\n",
       "<style scoped>\n",
       "    .dataframe tbody tr th:only-of-type {\n",
       "        vertical-align: middle;\n",
       "    }\n",
       "\n",
       "    .dataframe tbody tr th {\n",
       "        vertical-align: top;\n",
       "    }\n",
       "\n",
       "    .dataframe thead th {\n",
       "        text-align: right;\n",
       "    }\n",
       "</style>\n",
       "<table border=\"1\" class=\"dataframe\">\n",
       "  <thead>\n",
       "    <tr style=\"text-align: right;\">\n",
       "      <th></th>\n",
       "      <th>tags</th>\n",
       "      <th>category</th>\n",
       "      <th>def</th>\n",
       "    </tr>\n",
       "  </thead>\n",
       "  <tbody>\n",
       "    <tr>\n",
       "      <th>0</th>\n",
       "      <td>B, PERFORMING OPERATIONS; TRANSPORTING</td>\n",
       "      <td>B</td>\n",
       "      <td>PERFORMING OPERATIONS; TRANSPORTING</td>\n",
       "    </tr>\n",
       "    <tr>\n",
       "      <th>2</th>\n",
       "      <td>E, FIXED CONSTRUCTIONS</td>\n",
       "      <td>E</td>\n",
       "      <td>FIXED CONSTRUCTIONS</td>\n",
       "    </tr>\n",
       "    <tr>\n",
       "      <th>2</th>\n",
       "      <td>Y, GENERAL TAGGING OF NEW TECHNOLOGICAL DEVELO...</td>\n",
       "      <td>Y</td>\n",
       "      <td>GENERAL TAGGING OF NEW TECHNOLOGICAL DEVELOPM...</td>\n",
       "    </tr>\n",
       "    <tr>\n",
       "      <th>3</th>\n",
       "      <td>A, HUMAN NECESSITIES</td>\n",
       "      <td>A</td>\n",
       "      <td>HUMAN NECESSITIES</td>\n",
       "    </tr>\n",
       "    <tr>\n",
       "      <th>19</th>\n",
       "      <td>F, MECHANICAL ENGINEERING; LIGHTING; HEATING; ...</td>\n",
       "      <td>F</td>\n",
       "      <td>MECHANICAL ENGINEERING; LIGHTING; HEATING; WE...</td>\n",
       "    </tr>\n",
       "  </tbody>\n",
       "</table>\n",
       "</div>"
      ],
      "text/plain": [
       "                                                 tags category  \\\n",
       "0              B, PERFORMING OPERATIONS; TRANSPORTING        B   \n",
       "2                              E, FIXED CONSTRUCTIONS        E   \n",
       "2   Y, GENERAL TAGGING OF NEW TECHNOLOGICAL DEVELO...        Y   \n",
       "3                                A, HUMAN NECESSITIES        A   \n",
       "19  F, MECHANICAL ENGINEERING; LIGHTING; HEATING; ...        F   \n",
       "\n",
       "                                                  def  \n",
       "0                 PERFORMING OPERATIONS; TRANSPORTING  \n",
       "2                                 FIXED CONSTRUCTIONS  \n",
       "2    GENERAL TAGGING OF NEW TECHNOLOGICAL DEVELOPM...  \n",
       "3                                   HUMAN NECESSITIES  \n",
       "19   MECHANICAL ENGINEERING; LIGHTING; HEATING; WE...  "
      ]
     },
     "execution_count": 23,
     "metadata": {},
     "output_type": "execute_result"
    }
   ],
   "source": [
    "df_taginfo = df_tag_explode[['tags','category']][df_tag_explode.tags.apply(lambda x: re.findall('^[A-Z],',x) != [])]\n",
    "df_taginfo = df_taginfo.drop_duplicates()\n",
    "df_taginfo['def'] = df_taginfo.tags.apply(lambda x: x.split(',')[1])\n",
    "df_taginfo.head()"
   ]
  },
  {
   "cell_type": "markdown",
   "metadata": {},
   "source": [
    "\n",
    "Since Y is a 'general tagging of new technology', we can guess the 'newest technology of the time' by tag distribution\n",
    "Run throughout the decades, find if there is a combination between different categories of tags"
   ]
  },
  {
   "cell_type": "code",
   "execution_count": 18,
   "metadata": {},
   "outputs": [
    {
     "name": "stdout",
     "output_type": "stream",
     "text": [
      "YEAR 1870\n",
      "========= \n",
      " number of different fields - newtech\n",
      "1    0.720186\n",
      "2    0.257825\n",
      "3    0.021988\n",
      "Name: nb, dtype: float64\n",
      "========= \n",
      " number of different fields\n",
      "1    0.815387\n",
      "2    0.174082\n",
      "3    0.010426\n",
      "4    0.000104\n",
      "Name: nb, dtype: float64\n",
      "YEAR 1880\n",
      "========= \n",
      " number of different fields - newtech\n",
      "2    0.503817\n",
      "1    0.432332\n",
      "3    0.060242\n",
      "4    0.003608\n",
      "Name: nb, dtype: float64\n",
      "========= \n",
      " number of different fields\n",
      "1    0.553291\n",
      "2    0.406484\n",
      "3    0.038342\n",
      "4    0.001853\n",
      "5    0.000029\n",
      "Name: nb, dtype: float64\n",
      "YEAR 1890\n",
      "========= \n",
      " number of different fields - newtech\n",
      "2    0.481623\n",
      "1    0.470876\n",
      "3    0.045738\n",
      "4    0.001762\n",
      "Name: nb, dtype: float64\n",
      "========= \n",
      " number of different fields\n",
      "1    0.592360\n",
      "2    0.375876\n",
      "3    0.030684\n",
      "4    0.001048\n",
      "5    0.000032\n",
      "Name: nb, dtype: float64\n"
     ]
    },
    {
     "data": {
      "image/png": "[encoded data removed]",
      "text/plain": [
       "<Figure size 432x288 with 1 Axes>"
      ]
     },
     "metadata": {
      "needs_background": "light"
     },
     "output_type": "display_data"
    }
   ],
   "source": [
    "tags_newtech = pd.DataFrame(columns=['1870','1880','1890'])\n",
    "tags_general = pd.DataFrame(columns=['1870','1880','1890'])\n",
    "df_categories = pd.DataFrame()\n",
    "for YEAR in ['1870','1880','1890']:\n",
    "    print(\"YEAR {0}\".format(YEAR))\n",
    "    data = pd.read_pickle('patent_{0}.pkl'.format(YEAR))\n",
    "\n",
    "    df_tag_explode = data.explode('tags')\n",
    "    df_tag_explode['category'] = df_tag_explode.tags.apply(lambda x: re.findall('^[A-Z]\\S*,',x)[0].strip(',').split('/')[0][0])\n",
    "\n",
    "    df_taginfo = df_tag_explode[['tags','category']][df_tag_explode.tags.apply(lambda x: re.findall('^[A-Z],',x) != [])]\n",
    "    df_taginfo = df_taginfo.drop_duplicates()\n",
    "    df_taginfo['def'] = df_taginfo.tags.apply(lambda x: x.split(',')[1])\n",
    "    tagdict = df_taginfo[['category','def']].set_index('category').to_dict()['def']\n",
    "    plt.bar(df_tag_explode.category.value_counts().index,df_tag_explode.category.value_counts())\n",
    "\n",
    "    df_category = pd.DataFrame(df_tag_explode[['id','pub','city','category']].drop_duplicates().\\\n",
    "                                       groupby(['id','pub','city'])['category'].apply(list)).reset_index()\n",
    "\n",
    "    df_category['category'] = df_category.category.apply(lambda x: ''.join(sorted(x)))\n",
    "    df_category['new_tech'] = df_category.category.apply(lambda x: 'Y' in x)\n",
    "    df_category['category'] = df_category.category.apply(lambda x: x.replace('Y',''))\n",
    "\n",
    "    df_category['nb'] = df_category.category.apply(lambda x: len(x))\n",
    "\n",
    "    tags_newtech[YEAR] = df_category[df_category.new_tech & (df_category.nb == 1)].category.value_counts() / df_category[df_category.new_tech & (df_category.nb == 1)].shape[0]\n",
    "    tags_general[YEAR] = df_category[(df_category.nb == 1)].category.value_counts() / df_category[(df_category.nb == 1)].shape[0]\n",
    "    print(\"========= \\n number of different fields - newtech\")\n",
    "    print(df_category[df_category.new_tech].nb.value_counts() / df_category[df_category.new_tech].shape[0])\n",
    "    print(\"========= \\n number of different fields\")\n",
    "    print(df_category.nb.value_counts() / df_category.shape[0])\n",
    "    df_category['YEAR'] = YEAR\n",
    "    df_categories = pd.concat([df_categories, df_category])\n",
    "    \n",
    "    \n",
    "    \n",
    "    df_temp = df_tag_explode[['id','pub','city','category']].drop_duplicates()\n",
    "\n",
    "    df_metadata = df_temp[['id','pub','city']]\n",
    "    df_category_variation = pd.crosstab(df_temp['id'], df_temp['category'])\n",
    "\n",
    "    df_category_variation = df_category_variation.reset_index()\n",
    "    df_category_variation = df_category_variation.merge(df_metadata)\n",
    "\n",
    "    tags_city = df_category_variation.groupby('city').sum()\n",
    "\n",
    "    #df.loc['Total']= df.sum()\n",
    "\n",
    "    tags_city['city_total'] = tags_city.sum(axis=1)\n",
    "    tags_city.to_pickle('tag_city_{0}.pkl'.format(YEAR))\n",
    "    \n",
    "    # 95% of patents are related to only one field - not really inter-domain overall\n",
    "\n",
    "    # most patents used only one category\n",
    "    # Y tag is always with some other tag\n",
    "    # See which tag is most associated with Y tag (general new tech)\n",
    "    #-> we will see which technology was considered cutting-edge at that time\n",
    "\n",
    "#    plt.plot(df_category.category[df_category.new_tech & df_category.nb == 2].value_counts()/df_category.shape[0],'x')\n",
    "#    plt.show()\n",
    "    \n",
    "    "
   ]
  },
  {
   "cell_type": "code",
   "execution_count": 115,
   "metadata": {},
   "outputs": [
    {
     "data": {
      "image/png": "[encoded data removed]",
      "text/plain": [
       "<Figure size 432x288 with 1 Axes>"
      ]
     },
     "metadata": {
      "needs_background": "light"
     },
     "output_type": "display_data"
    }
   ],
   "source": [
    "temp_data = {'one':[81.5387,55.3291, 59.2360], 'two':[17.4082, 40.6484, 37.5876],'three':[1.0426,3.8342, 3.0684 ]}\n",
    "pd.DataFrame(temp_data,columns=['one','two','three'], index=[1870,1880,1890]).plot.bar(rot=0)\n",
    "plt.title('number of different categories associated in patent')\n",
    "plt.xlabel(\"year\")\n",
    "plt.ylabel(\"percentage\")\n",
    "plt.show()"
   ]
  },
  {
   "cell_type": "code",
   "execution_count": 114,
   "metadata": {},
   "outputs": [
    {
     "data": {
      "image/png": "[encoded data removed]",
      "text/plain": [
       "<Figure size 432x288 with 1 Axes>"
      ]
     },
     "metadata": {
      "needs_background": "light"
     },
     "output_type": "display_data"
    }
   ],
   "source": [
    "temp_data = {'one':[72.0186, 43.2332,  47.0876], 'two':[25.7825, 50.3817,48.1623 ],'three':[2.1988,6.0242, 4.5738]}\n",
    "pd.DataFrame(temp_data,columns=['one','two','three'], index=[1870,1880,1890]).plot.bar(rot=0)\n",
    "plt.title('number of different categories associated in new technology patent')\n",
    "plt.xlabel(\"year\")\n",
    "plt.ylabel(\"percentage\")\n",
    "plt.show()"
   ]
  },
  {
   "cell_type": "code",
   "execution_count": null,
   "metadata": {},
   "outputs": [],
   "source": []
  },
  {
   "cell_type": "code",
   "execution_count": 19,
   "metadata": {},
   "outputs": [
    {
     "data": {
      "image/png": "[encoded data removed]",
      "text/plain": [
       "<Figure size 432x288 with 1 Axes>"
      ]
     },
     "metadata": {
      "needs_background": "light"
     },
     "output_type": "display_data"
    }
   ],
   "source": [
    "(tags_general.sort_index()*100).plot.bar()\n",
    "plt.xlabel('Tags')\n",
    "plt.ylabel('Percentage')\n",
    "plt.title(\"Tag distribution over 'new technology'\\n\")\n",
    "plt.show()\n",
    "# B, F, A, E technologies were the cutting edges of the time "
   ]
  },
  {
   "cell_type": "code",
   "execution_count": 24,
   "metadata": {},
   "outputs": [
    {
     "data": {
      "image/png": "[encoded data removed]",
      "text/plain": [
       "<Figure size 432x288 with 1 Axes>"
      ]
     },
     "metadata": {
      "needs_background": "light"
     },
     "output_type": "display_data"
    }
   ],
   "source": [
    "(tags_newtech.sort_index()*100).plot.bar()\n",
    "plt.xlabel('Tags')\n",
    "plt.ylabel('Percentage')\n",
    "plt.title(\"Tag distribution over 'new technology'\\n\")\n",
    "plt.show()\n",
    "# B, F, A, E technologies were the cutting edges of the time "
   ]
  },
  {
   "cell_type": "markdown",
   "metadata": {},
   "source": [
    "# Conclusion\n",
    "By analyzing the tag metadata, we can get the idea of leading - or most prospering industries of that time. We that more patents are associated with vairous categories of domain, which might imply the advancement and rising complextity of that time. \n",
    "We aimed to find out the major inventions of each domain through text cluster analysis.\n",
    "One of the possible future works can be broadening the time period, and examine the evolution of different industries over time. Furthermore, we can compare the patents with Y tag and without Y tag within a same domain, and examine which of the new inventiosn are considered 'new technology', while others aren't"
   ]
  },
  {
   "cell_type": "code",
   "execution_count": null,
   "metadata": {},
   "outputs": [],
   "source": []
  }
 ],
 "metadata": {
  "kernelspec": {
   "display_name": "Python 3",
   "language": "python",
   "name": "python3"
  },
  "language_info": {
   "codemirror_mode": {
    "name": "ipython",
    "version": 3
   },
   "file_extension": ".py",
   "mimetype": "text/x-python",
   "name": "python",
   "nbconvert_exporter": "python",
   "pygments_lexer": "ipython3",
   "version": "3.7.3"
  }
 },
 "nbformat": 4,
 "nbformat_minor": 4
}
