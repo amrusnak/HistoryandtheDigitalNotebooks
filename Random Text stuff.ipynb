{
 "cells": [
  {
   "cell_type": "code",
   "execution_count": 1,
   "metadata": {},
   "outputs": [],
   "source": [
    "ftxt = [''] * 30000\n",
    "for i in range(30000):\n",
    "    try:\n",
    "        path =  \"output/5-auto-correction/\" + str(i) + \".txt\"\n",
    "        f = open(path, \"r\")\n",
    "        ftxt[i] = f.read()\n",
    "    except:\n",
    "        ftxt[i] = ''"
   ]
  },
  {
   "cell_type": "code",
   "execution_count": 1,
   "metadata": {},
   "outputs": [
    {
     "ename": "NameError",
     "evalue": "name 'tokens' is not defined",
     "output_type": "error",
     "traceback": [
      "\u001b[0;31m---------------------------------------------------------------------------\u001b[0m",
      "\u001b[0;31mNameError\u001b[0m                                 Traceback (most recent call last)",
      "\u001b[0;32m<ipython-input-1-989b15fcd196>\u001b[0m in \u001b[0;36m<module>\u001b[0;34m\u001b[0m\n\u001b[1;32m      1\u001b[0m \u001b[0;32mfrom\u001b[0m \u001b[0msklearn\u001b[0m\u001b[0;34m.\u001b[0m\u001b[0mfeature_extraction\u001b[0m\u001b[0;34m.\u001b[0m\u001b[0mtext\u001b[0m \u001b[0;32mimport\u001b[0m \u001b[0mCountVectorizer\u001b[0m\u001b[0;34m\u001b[0m\u001b[0;34m\u001b[0m\u001b[0m\n\u001b[1;32m      2\u001b[0m \u001b[0mvectorizer\u001b[0m \u001b[0;34m=\u001b[0m \u001b[0mCountVectorizer\u001b[0m\u001b[0;34m(\u001b[0m\u001b[0;34m)\u001b[0m\u001b[0;34m\u001b[0m\u001b[0;34m\u001b[0m\u001b[0m\n\u001b[0;32m----> 3\u001b[0;31m \u001b[0mvectors\u001b[0m \u001b[0;34m=\u001b[0m \u001b[0mvectorizer\u001b[0m\u001b[0;34m.\u001b[0m\u001b[0mfit_transform\u001b[0m\u001b[0;34m(\u001b[0m\u001b[0mtokens\u001b[0m\u001b[0;34m[\u001b[0m\u001b[0;36m1\u001b[0m\u001b[0;34m]\u001b[0m\u001b[0;34m)\u001b[0m\u001b[0;34m\u001b[0m\u001b[0;34m\u001b[0m\u001b[0m\n\u001b[0m",
      "\u001b[0;31mNameError\u001b[0m: name 'tokens' is not defined"
     ]
    }
   ],
   "source": [
    "from sklearn.feature_extraction.text import CountVectorizer \n",
    "vectorizer = CountVectorizer()\n",
    "vectors = vectorizer.fit_transform(ftxt)"
   ]
  },
  {
   "cell_type": "code",
   "execution_count": 3,
   "metadata": {},
   "outputs": [],
   "source": [
    "from sklearn.feature_extraction.text import TfidfVectorizer\n",
    "tfidf = TfidfVectorizer().fit_transform(ftxt)\n",
    "# no need to normalize, since Vectorizer will return normalized tf-idf\n",
    "pairwise_similarity = tfidf * tfidf.T"
   ]
  },
  {
   "cell_type": "code",
   "execution_count": 5,
   "metadata": {},
   "outputs": [
    {
     "data": {
      "text/plain": [
       "<30000x30000 sparse matrix of type '<class 'numpy.float64'>'\n",
       "\twith 9135844 stored elements in Compressed Sparse Row format>"
      ]
     },
     "execution_count": 5,
     "metadata": {},
     "output_type": "execute_result"
    }
   ],
   "source": [
    "pairwise_similarity"
   ]
  },
  {
   "cell_type": "code",
   "execution_count": 12,
   "metadata": {},
   "outputs": [],
   "source": [
    "import numpy as np\n",
    "x = np.argsort(pairwise_similarity)\n"
   ]
  },
  {
   "cell_type": "code",
   "execution_count": 146,
   "metadata": {},
   "outputs": [],
   "source": [
    "smaller1 = pairwise_similarity[:10000, :10000]\n",
    "smaller2 = pairwise_similarity[10000:20000, 10000:20000]\n",
    "smaller3 = pairwise_similarity[20000:30000, 20000:30000]\n",
    "arr1 = smaller1.toarray()  \n",
    "arr2 = smaller2.toarray()\n",
    "arr3 = smaller3.toarray()\n",
    "np.fill_diagonal(arr1, np.nan) \n",
    "np.fill_diagonal(arr2, np.nan) \n",
    "np.fill_diagonal(arr3, np.nan) "
   ]
  },
  {
   "cell_type": "code",
   "execution_count": 16,
   "metadata": {},
   "outputs": [
    {
     "data": {
      "text/plain": [
       "array([[       nan, 0.        , 0.        , ..., 0.        , 0.        ,\n",
       "        0.        ],\n",
       "       [0.        ,        nan, 0.        , ..., 0.        , 0.        ,\n",
       "        0.        ],\n",
       "       [0.        , 0.        ,        nan, ..., 0.        , 0.        ,\n",
       "        0.        ],\n",
       "       ...,\n",
       "       [0.        , 0.        , 0.        , ..., 0.        , 0.        ,\n",
       "        0.        ],\n",
       "       [0.        , 0.        , 0.        , ..., 0.        , 0.        ,\n",
       "        0.        ],\n",
       "       [0.        , 0.        , 0.        , ..., 0.66605495, 0.        ,\n",
       "        0.        ]])"
      ]
     },
     "execution_count": 16,
     "metadata": {},
     "output_type": "execute_result"
    }
   ],
   "source": [
    "arr"
   ]
  },
  {
   "cell_type": "code",
   "execution_count": 118,
   "metadata": {},
   "outputs": [],
   "source": [
    "result_idx  = pd.DataFrame([[None] * 2]*9999)\n",
    "for i in range(0, 9999):\n",
    "    result_idx[0][i] = np.nanargmax(arr1[i]) \n",
    "    result_idx[1][i] = float(arr1[i][result_idx[0][i]])\n",
    "    if result_idx[0][i] == None:\n",
    "        result_idx[0][i] = 0\n",
    "    if result_idx[1][i] == None:\n",
    "        result_idx[1][i] = 0"
   ]
  },
  {
   "cell_type": "code",
   "execution_count": 132,
   "metadata": {},
   "outputs": [],
   "source": [
    "z = result_idx[1].values\n",
    "u = np.argsort(z)"
   ]
  },
  {
   "cell_type": "code",
   "execution_count": 135,
   "metadata": {},
   "outputs": [
    {
     "data": {
      "text/plain": [
       "0.9395802331815264"
      ]
     },
     "execution_count": 135,
     "metadata": {},
     "output_type": "execute_result"
    }
   ],
   "source": [
    "z[u[9998]]"
   ]
  },
  {
   "cell_type": "code",
   "execution_count": 133,
   "metadata": {},
   "outputs": [
    {
     "data": {
      "text/plain": [
       "array([7908, 1851, 3275, 1661, 1577, 1486, 3808, 9365, 6099])"
      ]
     },
     "execution_count": 133,
     "metadata": {},
     "output_type": "execute_result"
    }
   ],
   "source": [
    "u[9990:9999]"
   ]
  },
  {
   "cell_type": "code",
   "execution_count": 140,
   "metadata": {},
   "outputs": [
    {
     "data": {
      "text/plain": [
       "9365"
      ]
     },
     "execution_count": 140,
     "metadata": {},
     "output_type": "execute_result"
    }
   ],
   "source": [
    "result_idx[0][6099]"
   ]
  },
  {
   "cell_type": "code",
   "execution_count": 149,
   "metadata": {},
   "outputs": [
    {
     "data": {
      "text/plain": [
       "0.9395802331815264"
      ]
     },
     "execution_count": 149,
     "metadata": {},
     "output_type": "execute_result"
    }
   ],
   "source": [
    "arr1[6099][9365]\n"
   ]
  },
  {
   "cell_type": "code",
   "execution_count": 150,
   "metadata": {},
   "outputs": [
    {
     "data": {
      "text/plain": [
       "'UNITED STATES\\nPATENT OFFICE.\\nCHARLES MOREY AND JOSEPH B. JOHNSON,\\nOF BOSTON, MASSACHUSETTS.\\nIMPROVEMENT IN SEWING-MACHINES.\\nSpecification forming part of Letters Patent No. 6,099, dated February 6, 1849.\\nTo all whom it nay concern:\\nBe it known that we, CHARLES Morey and\\nJOSEPH B. JoHNSeN, of Boston, in the county |\\nof Suffolk and State of Massachusetts, have invented a new and useful Machine for Sewing\\nCloth or any other Material or Materials to\\nwhich it may be applicable; and we do hereby declare that the same is fully described and\\nrepresented in the following specification and\\n\" accompanying, drawings, letters, figures, and\\nreferences thereof.\\nOf the said drawings, Figure 1 exhibits a\\ntop view of onrsaid machine. Fig. 2 is a front\\nelevation. Fig. 3is anend elevation, TFig.4\\nis a transverse vertical and central section.\\nFig. 5 is a longitudinal and vertical section\\ntaken. through the axis of the bobbin, and\\nlooking toward the front plate of the frame,\\nthe said section being so made as to represent\\nthe hook and the mechanism by which it is operated, together with that by which the cloth-bar is moved. Fig. 6 is a horizontal section\\ntaken just above the needle and the hook, to\\nbe hereinafter described.\\nThe kind of sewing which is effected by our\\nmachine is what is generally known under the\\nname of ‘chain-stitch’’—that is to say, the\\nthread is passed through the cloth in the form\\nof loops, each one of which is passed through\\nthe one next to it and in rear of it. The formation of the loops or stitches and their interlacement are produced in a very simple\\nmnanner by the united operations of a needle\\nand a hook, as we shall herinafter explain.\\nIn the drawings above mentioned, A exhibits a frame of metal or other proper material,\\nmade in a manner suitable to sustain the operative parts applied to it. A driving-shaft,\\nB, extends across the frame A, and has its\\njournals supported in suitable bearings apphed to the sidesof the frame. The said shaft\\nis to be put in operation by a crank or a belt\\nmade to run over a pulley, C. <A fly-wheel,\\nD, is placed upon the said shaft in the position as seen in the drawings.\\nThe first element or part of the machine by\\nwhich the stitch or loop is passed through the\\nclothistheneedle. Itisseenata. It is made\\nlike a common needle, with the exception that\\nthe eye or hole e, which receives the thread 3,\\nis made through the needle very near to its\\npoint, as seen in Fig. 7, which denotes a top\\nview of the needle. Just-in rear of the eye-hole\\nthe needle is bent or has a slight depression, as\\nseen at cin Fig. 8,which denotes aside view of\\nthe needle. Theneedle is supported in a horizontal position, as seen in drawings, by acurved\\narm, d, which projects from a standard, /,\\nerected upon a horizontal slide-plate or carriage, g, which should be suitably sustained\\nbetween parallel guides or ways, so as to be\\ncapable of being moved back and forth in a\\ndirection at right angles to the front face or\\nside of the machine. A. reciprocating rectilinear motion is imparted to the said carriage\\n(and, of course, to the needle) by a grooved\\ncam, 4, and a stud, e, which projects down\\nfrom the under side of the carriage and into\\nthe groove of the cam. The said cam is represented in side viewin Fig. 9 and in top view\\nin Fig. 10. The thread 6 is wound upon a\\nbobbin, #, fixed upon a horizontal shaft, J,\\nwhich is supported by and revolves in bearings made in two metallic standards, mn, arranged as seen in the drawings. On oneend\\nof the said shaft 7 there is a friction-pulley, o,\\nagainst the periphery of which.a spring, p, is\\nmade to bear with more or less force, according to the amount of friction required to drag\\nthe thread close into the cloth as the loops or\\nstitches are successively formed. From the\\nbobbin the thread is passed through a hole or\\neye on the end of a spring, 4q, made to project\\nfrom the top of a post, 7. Thence the thread\\npasses downward through guides s c on the\\narm @, and is carried upward througlrthe eye\\nof the needle, as seen in the drawings.\\nThe hook which operates in connection with\\nthe needle becomes the next element for explanation. Itisseenaté. It is arranged at\\nright angles to the needle, and is jointed (so\\nas to play vertically) at its rear end to a slide-plate or carriage, «wu, which is supported in\\nsuitable ouides, ‘which admit of its being\\nmoved in a direction parallel to the front face\\nof the frame.\\nThe reciprocating rectilinear movements of\\nthe carriage w and the hook ?’are produced by\\nthe following-described mechanism: ‘The front\\nend of the carriage « is jointed to the upper\\narm of a lever, v, which moves on a falcrum,\\nw. The lower end of said lever rests against\\nthe periphery of a small cam or wiper, w’,\\nplaced upon the main or driving shaft just in\\nrear of the front side plate of the frame. The\\nother end of the carriage u is connected to one\\nend of a spring, x, whose opposite end is at- | other proper contrivances applied to it for the\\ntached to the frame. Now, when the cam 2’\\nis revolved, it acts against the lower arm of the\\nlever v in such manner as to cause said lever\\nto move on its fulcrum, so as to produce an\\nadvance of the carriage u and the hook c ina\\ndirection toward the needle. Thespring z retracts the carriage after the extreme eccentric\\npart of the cam has passed by or acted upon the\\nlever. A. top view of the lrook is represented\\nin Fig. 11, and a front side view of it in Fig. 19.\\nThesaid hook is made ina peculiar manner—\\nthat is to say, it has its point z bent down below\\norso as tomake an angle with the shank’, as\\nrepresented in Fig. 12. This is necessary in orcerto enable the hook to seize the thread on the\\nneedle when the hook is retracted or drawn\\nback over the needle. The loop which is\\nformed upon said hook is cansed, by the peculiar construction of the hook, to turn intoa vertical position, so as to allow the needle to pass\\nthrough it when it nextadvances. The shank\\nof the hook is also formed with a small pyrojecting bend, as seen at 0’, Fig. 12, which bend\\nrests and moves up and down upon an inclined or curved plane, c’, disposed under the\\nhook, as seen in Fig. 5. The objectof the said\\nbend J’ and the said plane c’ is to allow the\\nhook to descend a little directly after it has\\nbeen drawn back from and beyond the needle,\\nin order’ that the opening of the loop resting\\non the hook may be made large enough to insure the passage of the needle through the loop\\nthe next time said needle is advanced. A\\nspring, @’, is arranged, as seen in Fig. 5, so as\\nto press upon the hook and cause it to drop\\ndownward at the proper time. The cloth,\\nwhen punctured by the needle, is supported by\\na plate, @, which has a small hole, e’, made\\nthrough it for the passage of the needle. a’ is\\na curved arm, which is intended to project\\ndown in front of the cloth and near the nee-\\ndie. It is for the.purpose of preventing the\\nneedle fron: drawing the cloth forward too far\\nwhen said needle is drawn out of the cloth.\\nThe next portion of the mechanism to be\\nspecified is that by which the cloth is supported and regularly or properly advanced or\\nmoved laterally in one direction, in order to\\ncause a row of stitches or a line of sewing to\\nbe produced in said cloth. The cloth-bar or\\ncarriage which supports the cloth is‘seen at’,\\nFigs. land 2. An elevation of the rear side\\nof it is exhibited in Fig. 13.\\nlong bar arranged as seen in the drawings, and\\nsuitably supported so as to be capable of being moved horizontally and ina plane parallel\\nto that of the front side of the’ frame. In\\nother words, it has a dovetailed tenon, g, projecting from its rear side and extending from\\none end of it to the other end of it, which tenon\\nmoves in a corresponding dovetailed groove\\nmade in the frame. <A long rack of teeth, fh’,\\nis affixed to and projects rearward from the.\\ninside face of the said tenon, as seen in Figs.\\n4 and 13. The frontor outside face of the\\ncloth-bar has a series of clamps, 7’ 7’, &e., or\\nIt consists of a.\\npurpose of holding or confining to the bar the\\ntwo piecesof cloth to be sewed together. Each\\nof said clamps consists of a jaw hinged to the\\nplate and forced against the plate or cloth-bar\\nby a set-screw, ik’, which is made to pass\\nthrough the jaw or clamp and to screw into\\nthe bar. A spring, 7’, on each screw, and arranged between the clamp and bar, serves to\\npress the clamp away from the cloth when the\\nscrew is loosened. Thesaid bar is alternately\\nmoved the length of each stitch, (when the\\nneedle is out of the cloth,) and suffered to remain at rest while the needle is passing into,\\nthrough, and out of the cloth, the same being\\neffected in the following manner: A pawl, m’,\\nis hinged to the top of alever, 2’, which turns\\nupon a fulcrum, o’, all as seen in Fig. 5, The\\nsaid pawl operates in the rack 7’, and is forced\\nup against the same by a spring, p’. The lever wv has a retractive spring, c, affixed to it\\nand the frame A. The said lever is actuated\\nby the cam or wiper 2’, before mentioned,\\nwhich, during its revolution, so acts against\\nthe lever as to cause it to move the paw! and\\nrack or cloth-bar a short distance. The extent of retraction of the lever and paw], and\\nof course the length of each stitch of sewing,\\nis regulated by a screw, 7’, which screws\\nthrough a fixed stud or projection, s’, and\\nabuts against the lever just above its fulcrum.\\nBy means of the said screw the pawl may be\\nmade at each retraction of it to slip over one,\\ntwo, or more teeth of the rack of teeth, as occasion may require, in order that when the\\npawl is impelled forward it shall move the\\nrack and cloth-bar a corresponding distance.\\nThe movement of the rack-bar may be arrested\\nat any time by means of a wire, @, which is suspended to the pawl, it being necessary merely\\nto pull on said wire, so as to draw the pawl out\\nof action upon the rack.\\nHaving thus described the manner in which\\nour said sewing-machine is constructed, we\\nshall now proceed to explain the method of\\nforming the loops and each successive stitch of\\na series or row of stitches.\\nFig. 14 represents on a large scale a diagram of the mode of forming loops and their\\nInterlacement. Inthe said figure, @b’aresupposed to represent sections of two pieces of\\nclothto be sewed together. The needle isseen\\nat a, the hook at ’, and the thread at a’. As\\nsoon as the needle has been passed entirely\\nthrough the two pieces of cloth ab’ and to the\\nextent of its motion forward, the hook ? is\\nmade to advance and to pass above and over\\nand across the needle and the thread lying on -\\nthe upper side of it. This being accomplished,\\nthe hook is next retracted and suffered to fall\\nvertically sufficiently to enable the point of it.\\nto pass into the depression e, Fig. 8, and below the thread, (ying over said depression, )\\nso as to catch or hook said thread and draw it\\nlaterally into the shape of a loop, as seen at\\nc’, Fig. 14.. The needle is next retracted or\\ndrawn out of the cloth and the latter moved\\nlaterally the length of the iiext stitch. The |\\nneedle is next forced forward through the\\ncloth, and the loop e’, which, by the peculiar\\nformation of the hook, will have beenso turned\\nupward as to permit the needleto pass through\\nit. The hook is next advanced, and leaves the\\nloop upon the needle, and again seizes the\\nthread on the upper side of the needle, and is\\nretracted and forms a fresh loop, the process\\nof looping and interlacing the loops being so\\ncontinued until the whole line of loops is completed. The slack of thread will be taken up\\nby the action of the spring q, while the tightness of the draft of itin the cloth will be regulated by the amount of friction exerted on the\\nbobbin-shaft by the friction-pulley p and pulIn the above machine we claim as our invention— ;\\n‘The combination of a needle, c, and a hook,\\nt’, as constructed and made to operate together substantially in manner and for the\\npurpose of sewing cloth, (or any other material\\nor materials capable of being sewed, ) as specified.\\nIn testimony whereof we have hereto set our\\nsignatures this 11th day of April, A. D. 1848.\\nCHARLES MOREY.\\nJOSEPH B. JOHNSON.\\nWitnesses:\\nhk. H. Eppy,\\nF. GouLp.\\n'"
      ]
     },
     "execution_count": 150,
     "metadata": {},
     "output_type": "execute_result"
    }
   ],
   "source": [
    "ftxt[6099]"
   ]
  },
  {
   "cell_type": "code",
   "execution_count": null,
   "metadata": {},
   "outputs": [],
   "source": [
    "# ernst Haeckel Kunstform der natur"
   ]
  },
  {
   "cell_type": "code",
   "execution_count": 151,
   "metadata": {},
   "outputs": [
    {
     "data": {
      "text/plain": [
       "'Unrrep STATES PaTENT OFFICE.\\nCHRISTOPHER HODGKINS, OF BOSTON, MASSACHUSETTS, ASSIGNOR TO\\nNEHEMIAH HUNT.\\nIMPROVEMENT IN SEWING-MACHINES.\\nSpecification forming part of Letters Patent No. 9,865, dated November 2, 1852.\\nTo all whom it may concern:\\nBe it known that I, CHRISTOPHER HopeKins, of Boston, in the county of Suffolk and\\nState of Massachusetts, have invented certain\\nnew and useful Improvements in Machinery\\nfor Sewing Cloth; and I do hereby declare that\\nthe same are fully described and represented\\nin the following specification and the accompanying drawings, letters, figures, and references thereof.\\nOf the said drawings, Figure 1 denotes a top\\nview of my improved sewing-machine. Fig.\\n2isaside elevation of it. Fig. 3is a front end\\nview. Fig. 4 is a vertical and transverse section taken through the front needle and representing the parts that are toward the fly-wheel. Fig. 5 is an under side view of it.\\nFig. 6 is a vertical, central, and longitudinal\\nsection of it.\\nMy machine sews with two needles working\\nthrough the cloth in opposite directions, and\\nthe one being made to cross the path of the\\nother. It performs a lock-stitch, the loops\\nmade by each thread being locked in the cloth\\nby those of the other. —\\nIn the drawings, A and B represent the two\\nneedles, each being inserted and fixed in a\\nneedle carrier or slide, C or D, which is supported so as to slide freely in a longitudinal\\ndirection. The angular position of one needle with respect to the ‘other is as denoted in\\n_the drawings. The cloth is shown at E by red\\nlines, and as resting on the top of the table or\\n-bed-plate F of the. machine, and kept from\\nrising upward by a presser, G, through which\\nthe needles work, a top view of the said presser\\nbeing given in Fig. 7.\\nHIarethe bobbins that carry thetwo-threads\\nab. Each needle is provided with an eye or\\nhole, made through it at about one-third or\\none-half of an inch from its point. \"While the\\nthread a is taken from the bobbin H (which\\nis placed on top of the machine) and_ passed\\nthrough the eye of the needle A in a direction\\ntoward the front end of the machine, the other\\nthread, }, is taken from its bobbin I and passed\\nthrough the eye of the needle B in an opposite\\ndirection.\\nThe operation of sewing by the machine may\\nbe thus described: The lower needle passes up\\nthrough the cloth, so as to carry its eye entirely and some distance through it. It next\\nfalls or moves back a short distance. In doing this the thread which had been drawn\\ntightly against its sides will be loosened and\\ncaused to bow out or stand out, so as to permit the point of the upper needle to pass freely\\nbetween it and the said lower needle when said\\nupper needle next descends. Next, the upper\\nneedle is made to descend, soas to pass between\\nthe lower needle and the thread thereof and\\ninto the cloth a short distance, but not to the\\nextent of its downward motion, Next, the\\nlower needle is made to descend entirely\\nthrough the cloth and to the extent of its downward motion. Next, the upper needle is made\\nto further descend and to the full extent of its\\ndownward motion. Next, the lower needle is\\nmoved laterally to the right or toward the\\nupper needle a distance sufficient for the formation of a stitch. Next, the upper needle\\nrises a little, so as to loosen ‘and bovw its thread,\\n(as did the other needle, as before described. ,\\nNext, the lower needle passes into the bow of\\nthe thread and into or through the cloth a short\\ndistance, but not to. the full extent of its motion. Next, the upper needle is raised up to\\nits highest position and entirely out of the loop\\npreviously formed thereon, it being so elevated\\nfor the purpose of enabling the lower needle,\\nwhen it next ascends, to draw such loop around\\nthe thread instead of around the upper needle,\\nwhich it would do were the said upper needle\\nnot previously drawn out of the loop before\\nmade on it. Next, the lower needle ascends\\nand draws the thread into the cloth. Just previous to the taking place of the first portion\\nof the downward motion of the lower needle,\\nsuch needle and the cloth are conjointly moved\\nin a direction toward the other needle the distance required for the formation of the next\\nstitch.\\nIn machines that have been operated with\\ntwo needles working directly across’ one auother and through the cloth, as do those of my\\nmachine, each needle has had a regular uninterrupted forward-and-back motion, and not\\nan intermittent forward or an intermittent\\nback movement of the kind imparted to the\\nneedles of my machine. When one needle\\npasses entirely through the cloth to the extent\\nof its motion before the withdrawal of the other\\nneedle commences to take place, the latter needle will, when it next passes through the cloth,\\ndraw its thread around the first needle, and [ riage K.\\nthereby leave it not closely drawn into the\\n‘cloth; but if one needle is drawn out of the\\ncloth after the other needle has caught the\\nthread of the first and before the second has\\ncompleted its movement through it, the latter\\ndraws its thread down closely into the cloth\\nand around the other thread only and not\\naround the fofmer needle. Consequently in\\nthis way atightsewing or stitches drawn closely\\ninto thecloth can be produced. It is therefore\\nthat a particular part of my invention consists\\njn so operating the needles that each one, immediately after the other has caught its thread,\\nshall be drawn out of the cloth before the other\\nhas completed its forward movement, and this\\nto prevent the entering needle from drawing\\nits thread around the other and cause such\\nentering needle to draw its thread around the\\nthread only of the other, whereby such thread\\nand the other thread are drawn closely into\\nthe cloth. This is a highly important part\\nof my invention, and I have been thus particular in referring to it, in order that it may\\nbe clearly understood.\\nThe slide or carrier D of the lower needle is\\nsupported by and slides freely up and downin\\na carriage or block, K, that is held up to the\\nunder side of the base-plate by suitable ways\\nor contrivances, L M, that permit it to slide\\nfreely in a transverse direction. A screw-pin,\\nN, projects from the carrier and extends\\nthrough the front end of the longer arm of a\\nbent lever, O, the said pin being made to work\\nin a slot, P, cut through the block K. The\\nupper arm of the lever O has a pin or stud, d,\\nthatis made to enter a cam-groove, c, formed in\\na cylinder, Q, fixed on the driving-shaft R.\\nFig. 8 is a top view of the lever, and Fig. 9 is\\na side view of it. Fig. 10 is a side view of the\\nshaft R and its cams. Another bent lever, S,\\nwhose fulcrum is at T, is also moved by the\\nsaid cai, the front end of the said lever S\\nbeing connected with the carrier C of the upper needle, and the said cam is properly made |\\nso as to impart to the needles their up and\\ndown movements, as above described. On the\\nfly-wheel shaft R there is another cam, U, which\\noperates against the upper end of a lever, V,\\nwhose fulcrum is at W, (see Fig. 11,) which\\ndenotes a transverse section of the machine,\\ntaken through the said cam and exhibiting the\\nmechanism that is on that side of it toward the\\nneedles. The lower end of the lever V is jointed to another lever, Y, which has its fulcrum\\nat Z, and its other ‘endl is jointed to the carriage K, of which Fig. 12 is a front side view,\\nFig. 13 atop view, 4 and Fig. 14 a bottom view,\\nas it appears when detached from the bed-plate. The carriage receives its movement in\\none direction orto the left by the action of the\\ncam U against the lever V, while it gets a\\nmovement in the opposite direction by the retractile force of a spring, X, one end of which\\nis fixed to the lever Y. There are two burrs\\nor toothed cylinders, g g, affixed to aspring, h,\\nthat is attached to the upper part of the car-\\nThese. levers are made -to freely revolve on an axle, 4, and under them there is\\na spring-brake, k, that is so applied and\\nformed that during the time the needle-carrier\\nof the lower needle is being raised upward it\\nshall abut against the spring-brake and press\\nit against the under side of the peripheries of\\nsaid burrs, and so as to prevent them from\\nturning around while the carriage is being\\nmoved toward the left. The upper parts of\\nthe peripheries of these burrs are made to rest\\nagainst and be pressed into the under side of\\nthe cloth. Consequently when the carriage K\\nis so moved to the left the burrs being moved\\nwith it and all rotary motion of them arrested,\\nthey will move the cloth with them. On the\\ndescent of the needle-carrier the burrs will be\\nrelieved of the pressure of the friction-brake,\\nso that when .the carriage is next moved toward the right by the retractive power of the\\nspring X they will freely rotate on their axle\\nand produce no movement of the cloth. The\\namount of movement toward the right is regulated by an adjustable stop-rod, 2, against\\nthe inner end of which the head of a screw or\\nprojection, m, from the carriage abuts at the\\ncompletion ofits movement to the right. This\\nadjustable stop-rod is supported by the projections m’ » from the bed-plate. It has a\\nscrew, 0, cut on it, which screw is made to\\nscrew into one of the said projections, so that\\nin turning the stop-rod on its axis either in\\none direction or the other it may be forced inward or outward, as occasion may require, in\\norder to vary the length of stitch to be made\\nby themachine. A clamping-nut, p, isscrewed\\non the stop-rod, and when screwed up against\\nthe projection m’ or side of the frame serves\\nto keep the stop-rod in position. Such a mode’\\nof regulating the length of stitch will answer\\nwhen the machine is employed to sew cloth of\\na constant thickness, but it will not, without\\nmuch inconvenience, render the machine able\\nto sew cloth varying in thickness. Now, as\\nthe machine is liable to be used at one moment\\nto sew together two pieces of cloth of one thickness when laid together, and at the next moment to be employed to sew two pieces of cloth\\nof a different thickness together, it becomes\\nnecessary to provide it with some mechanism\\nby which it may be at once adjusted by any\\nthickness of the cloth to properly sew through\\nsuch thickness. The difficulty that is liable to\\noccur by an increase of thickness of the cloth\\nmay be explained by Fig. 15, in which, suppose A B to represent the two needles and the\\nlines a b the cloth, the distance between said\\nlines being the thickness thereof. We desire\\nthe- needle A to pass between the line } and\\nthe eye e of the needle B, and to enter the\\ncloth at the right of where the needle B passes\\nout of iton lined. Now, if we vary the thickness of the cloth, or-suppose its upper surface\\nto be represented by the dotted line e, or the\\ncloth to have a thickness equal to the distance\\nbetween the lines a and c, it will be seen that\\nthe needle A would pass into the cloth at f before it would pass in between the bow of the\\nthread of the needle B. In order to make the\\nneedle A pass through the said bow before it\\nenters the cloth, it will be seen that the needle\\nB must be moved to the left to the position\\ndenoted at B’ by dotted lines. Thus an increase of thickness of the cloth requires a\\nmovement of the lower needle toward the left,\\nin order that the upper needle may not enter\\nthe cloth before it passes through the bow of\\nthe thread of the lower needle. .\\nThe presser G is attached to the lower end\\nof a vertical slide-rod, m’, that slides freely up\\nand down in a box, 7’, which is affixed to the\\n‘front end of the arm o’ of the frame of the machine by screws p p p p, that pass, respectively, through slots c q q q, made through the\\nbox. This isto enable the box to slide up and\\ndown a short distance on the screws. The rod\\nav’ is pressed downward by a spr ing, 1, disposed around it in the box w’. There is a\\nclamp-screw, 8, which screws into the rod and\\nthrough a slot, t, made in the front side of the\\nbox. The shank of this screw passes through\\nan inclined slot, u, made through an arm, 2,\\nthat projects down from the outer end of a\\nhorizontal shaft, 2, which extends into the\\narm of the frame. The diameter of the shank\\nof the screw is equal to the width of the slot\\nw’, and such slot is so made that whenever the\\npresser G is lifted up, so as to force the screw\\ns upward, the screw shall cause the arm v to\\nmove to the right, and thereby turn the shaft\\nw a little in its bearings, and so as to depress\\nan arm, #, that is fixed to the other end of the\\nshaft. The box »’ is forced downward by the\\naction of a spring, y.\\nThe fulcrum-pin W of the lever V screws\\ninto and through a slide, -«’, that is so affixed\\nto a vertical stationary plate, b’, as to be capable of moving back and forth in a horizontal\\ndirection. The rear end or part of the screw\\nis mace to extend entirely through: the stationary plate d’, as seen in Figs. 16 and 17, the\\nformer of which is a vertical section taken\\nthrough the lever V, the slide-plate «’, the stationary plate 6’, and a movable cam-plate, c\\nFig. 17 is a rear view of the plates b’ and c’.\\nFig. 18 is a rear view of the plate 0’. A horizontal slot, d’, is made through the plate J’,\\nthe pin W being caused to pass through such\\nslot into an inclined slot, c’, cut through the\\nplate c’, the’said plate c’ being so applied to\\nthe plate 6’ as to be capable of only a vertical\\nmovement either upward or downward. Such\\nplate c’ is jointed to the lower end of a connecting rod or bar, f’, whose upper end is jointed to the arm # of the shaft w. From the\\nabove it will be seen that when the cam-plate\\nc is raised upward the inclined slot of it will\\nso act against the fulernm-pin W as to move\\nit in a horizontal direction away from the driving-shaft. So when such plate c’ is depressed\\na contrary movement of the pin W will be effected. The nearer the pin W is carried borizoutally toward the driving-shaft R the farther will the cam U, during its rotation, move\\nthe lever V, so as to produce a consequent\\nmovement of the carriage K toward the left,\\nthe cam-slots and parts of the mechanism being so proportioned as to cause such movement of the block or carriage K (and of course\\nthe lower needle) to be in accordance with what\\nwould be necessary in order to carry the lower\\nneedle into its correct position under any variatiou of the thickness of the cloth. Should\\na seam or projection on the top surface of the\\ncloth, or any sudden increase of the thickness\\nof the cloth, or any matter in the cloth increasing its thickness in any part, come under the\\npresser during the operation of sewing the\\ncloth, it will lift it and the box w’, it being supposed that the presser-rod m? is clamped to the\\nbox n’ by the screw S. This lifting of the box\\nwill.cause such a movementof the arm v as will\\ncreate the required movement of the lower needle toward the left, in order to enable the needles to sew through such increase of thickness\\nof cloth under the presser.\\nIn order to keep each thread from kinking\\nup, it will be carried around oneof two springs,\\ng W’, in its passage from its bobbin to its nee-_\\nI do not herein intetid to claim in- the mechanism for feeding the cloth anotched bar which\\nhas a vertical or “np-and-down motion for fastening the cloth upon and relieving it from the\\nnotches of said bar by striking it against 4\\nyielding plate, and a lateral motion or motion\\nforward and back; but\\nWhat I do claim as an improvement thereon is—\\n1. The employment of one or more burr-\\nwheels, g, applied to the carriage K, and kept\\ncontinually against the cloth by a spring, (so\\nas to preserve the cloth from falling away from\\nthe spring plate or presser over it,) in combination with a spring-brake, %, operated as described, the whole being combined and made\\nto operate together substantially as specified.\\n2. In combination with the presser G and\\nthe lower needle, a mechanism by which an\\nincrease of thickness of the cloth is made to\\nmove the lower needle to the left the distance\\nrequired to bring it into correct position with\\nrespect to the upper needle, so as to prevent\\nthe said upper needle from passing into the\\ncloth before passing into the bow of the thread\\nof the lower needle, as set forth.\\n3. The combination of the slide-rod 7’, the\\nbox wn’, screw §, slotted arm v, shaft w, arm at,\\nconnecting- rod f , Slide @’, stationary plate BY,\\nand cam- plate c’, as applied to the fulcrum.\\npin W of the lever V and to the presser, for\\nthe purpose of moving the lever with respect\\nor nearer to the cam U, for the purpose and\\nin the manner herein described.\\nIn testimony whereof I have hereto set my\\nsignature this 4th day of September, A. D.\\nCHRISTOPHER HODGKINS.\\nWitnesses:\\nR. H. EDpy,\\nGEORGE W. CUTLER,\\n'"
      ]
     },
     "execution_count": 151,
     "metadata": {},
     "output_type": "execute_result"
    }
   ],
   "source": [
    "ftxt[9365]"
   ]
  },
  {
   "cell_type": "code",
   "execution_count": null,
   "metadata": {},
   "outputs": [],
   "source": []
  }
 ],
 "metadata": {
  "kernelspec": {
   "display_name": "Python 3",
   "language": "python",
   "name": "python3"
  },
  "language_info": {
   "codemirror_mode": {
    "name": "ipython",
    "version": 3
   },
   "file_extension": ".py",
   "mimetype": "text/x-python",
   "name": "python",
   "nbconvert_exporter": "python",
   "pygments_lexer": "ipython3",
   "version": "3.6.8"
  }
 },
 "nbformat": 4,
 "nbformat_minor": 2
}
